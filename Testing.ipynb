{
 "cells": [
  {
   "cell_type": "code",
   "execution_count": 3,
   "id": "0efde73f",
   "metadata": {},
   "outputs": [],
   "source": [
    "import geopandas as gpd\n",
    "\n",
    "# Path to the shapefile\n",
    "shapefile_path = 'data/OPCC/Anoml_P_2050_Anual_RCP45_REGRESION_Q50_id103/Anoml_P_2050_Anual_RCP45_REGRESION_Q50.shp'\n",
    "\n",
    "# Read the shapefile using geopandas\n",
    "gdf = gpd.read_file(shapefile_path)\n",
    "\n",
    "# Define the path for the output GeoJSON file\n",
    "output_geojson_path = 'data/OPCC/Anoml_P_2050_Anual_RCP45_REGRESION_Q50_id103/geojson.geojson'\n",
    "\n",
    "# Convert the GeoDataFrame to GeoJSON and save it\n",
    "gdf.to_file(output_geojson_path, driver='GeoJSON')"
   ]
  },
  {
   "cell_type": "code",
   "execution_count": 5,
   "id": "c773ae14",
   "metadata": {},
   "outputs": [],
   "source": [
    "import requests\n",
    "id_capa='103'\n",
    "ruta_estandar = \"https://www.opcc-ctp.org/sites/all/libraries/geoportal/\"\n",
    "ruta_services = ruta_estandar + \"services/\"\n",
    "url = ruta_services + \"descargar.php?id=\" + id_capa\n",
    "response = requests.head(url)\n",
    "content_disposition = response.headers.get('Content-Disposition')\n",
    "\n",
    "if content_disposition:\n",
    "    # Extract the filename from the Content-Disposition header\n",
    "    filename = content_disposition.split('filename=')[1].strip('\"')"
   ]
  },
  {
   "cell_type": "code",
   "execution_count": 6,
   "id": "4f550cc9",
   "metadata": {},
   "outputs": [
    {
     "data": {
      "text/plain": [
       "'Anoml_P_2050_Anual_RCP45_REGRESION_Q50_id103.rar'"
      ]
     },
     "execution_count": 6,
     "metadata": {},
     "output_type": "execute_result"
    }
   ],
   "source": [
    "filename"
   ]
  },
  {
   "cell_type": "code",
   "execution_count": 7,
   "id": "b28b4226",
   "metadata": {},
   "outputs": [
    {
     "data": {
      "text/plain": [
       "'attachment; filename=Anoml_P_2050_Anual_RCP45_REGRESION_Q50_id103.rar'"
      ]
     },
     "execution_count": 7,
     "metadata": {},
     "output_type": "execute_result"
    }
   ],
   "source": [
    "content_disposition"
   ]
  },
  {
   "cell_type": "code",
   "execution_count": null,
   "id": "48e5014f",
   "metadata": {},
   "outputs": [],
   "source": []
  }
 ],
 "metadata": {
  "kernelspec": {
   "display_name": "Python 3 (ipykernel)",
   "language": "python",
   "name": "python3"
  },
  "language_info": {
   "codemirror_mode": {
    "name": "ipython",
    "version": 3
   },
   "file_extension": ".py",
   "mimetype": "text/x-python",
   "name": "python",
   "nbconvert_exporter": "python",
   "pygments_lexer": "ipython3",
   "version": "3.11.3"
  }
 },
 "nbformat": 4,
 "nbformat_minor": 5
}
